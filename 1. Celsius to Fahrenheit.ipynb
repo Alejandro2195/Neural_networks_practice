{
  "nbformat": 4,
  "nbformat_minor": 0,
  "metadata": {
    "colab": {
      "provenance": []
    },
    "kernelspec": {
      "name": "python3",
      "display_name": "Python 3"
    },
    "language_info": {
      "name": "python"
    }
  },
  "cells": [
    {
      "cell_type": "code",
      "execution_count": 53,
      "metadata": {
        "id": "z_YEQG4VNg-W"
      },
      "outputs": [],
      "source": [
        "#Esta red neuronal básica busca aprender a convertir de grados Celsius a Fahrenheit\n",
        "import os\n",
        "import tensorflow as tf\n",
        "import numpy as np"
      ]
    },
    {
      "cell_type": "code",
      "source": [
        "celsius = np.array([-40, -10, 0, 8, 15, 22, 38], dtype=float)\n",
        "fahrenheit = np.array([-40, 14, 32, 46, 59, 72, 100], dtype=float)"
      ],
      "metadata": {
        "id": "GcaGkMZbNi_7"
      },
      "execution_count": 54,
      "outputs": []
    },
    {
      "cell_type": "code",
      "source": [
        "#En este caso la capa que crearemos será densa, lo que significa que está conectada a todas las capas, con una sola neurona\n",
        "#input_shape se refiere a la dimensión de los datos que recibirá esta capa, que se espera que sean de dimensión 1\n",
        "capa = tf.keras.layers.Dense(units=1, input_shape=[1])\n",
        "modelo = tf.keras.Sequential([capa])"
      ],
      "metadata": {
        "id": "3IFeWwK3Ni5m"
      },
      "execution_count": 55,
      "outputs": []
    },
    {
      "cell_type": "code",
      "source": [
        "modelo.compile(\n",
        "    optimizer=tf.keras.optimizers.Adam(0.1),\n",
        "    loss=\"mean_squared_error\"\n",
        ")"
      ],
      "metadata": {
        "id": "we51t2YLNitf"
      },
      "execution_count": 56,
      "outputs": []
    },
    {
      "cell_type": "code",
      "source": [
        "print(\"Comenzando entrenamiento\")\n",
        "historial=modelo.fit(celsius, fahrenheit, epochs=1000, verbose=False)\n",
        "print(\"modelo entrenado\")"
      ],
      "metadata": {
        "colab": {
          "base_uri": "https://localhost:8080/"
        },
        "id": "TzuXKZE6X6fX",
        "outputId": "7aa293b0-c935-417b-ef8d-36f60b68aaba"
      },
      "execution_count": 57,
      "outputs": [
        {
          "output_type": "stream",
          "name": "stdout",
          "text": [
            "Comenzando entrenamiento\n",
            "modelo entrenado\n"
          ]
        }
      ]
    },
    {
      "cell_type": "code",
      "source": [
        "#Plotear el resultado de la función de pérdida (que tan mal están los resultados de la red en cada vuelta que dio)\n",
        "\n",
        "import matplotlib.pyplot as plt\n",
        "plt.xlabel(\"# Epoca\")\n",
        "plt.ylabel(\"Magnitud de pérdida\")\n",
        "plt.plot(historial.history[\"loss\"])"
      ],
      "metadata": {
        "colab": {
          "base_uri": "https://localhost:8080/",
          "height": 466
        },
        "id": "fugJBRlkYL_g",
        "outputId": "08a49651-63bc-4962-8da4-27f25281f8ae"
      },
      "execution_count": 58,
      "outputs": [
        {
          "output_type": "execute_result",
          "data": {
            "text/plain": [
              "[<matplotlib.lines.Line2D at 0x7fac456eff40>]"
            ]
          },
          "metadata": {},
          "execution_count": 58
        },
        {
          "output_type": "display_data",
          "data": {
            "text/plain": [
              "<Figure size 640x480 with 1 Axes>"
            ],
            "image/png": "[encoded data removed]"
          },
          "metadata": {}
        }
      ]
    },
    {
      "cell_type": "markdown",
      "source": [
        "Se observa que no necesitamos 1000 vueltas, con 500 o 600 hubiese bastado ya que el error se mantiene relativamente estable luego de esto"
      ],
      "metadata": {
        "id": "vX248PLQaKNo"
      }
    },
    {
      "cell_type": "code",
      "source": [
        "print(\"Hagamos una predicción\")\n",
        "resultado = modelo.predict([100.0])\n",
        "print(\"el resultado es\" + str(resultado) + \"fahrenheit\")"
      ],
      "metadata": {
        "colab": {
          "base_uri": "https://localhost:8080/"
        },
        "id": "8LsINf4iY3SI",
        "outputId": "79966b0c-5e9b-4330-8725-e30e319d4587"
      },
      "execution_count": 59,
      "outputs": [
        {
          "output_type": "stream",
          "name": "stderr",
          "text": [
            "WARNING:tensorflow:6 out of the last 11 calls to <function Model.make_predict_function.<locals>.predict_function at 0x7fac45156f80> triggered tf.function retracing. Tracing is expensive and the excessive number of tracings could be due to (1) creating @tf.function repeatedly in a loop, (2) passing tensors with different shapes, (3) passing Python objects instead of tensors. For (1), please define your @tf.function outside of the loop. For (2), @tf.function has reduce_retracing=True option that can avoid unnecessary retracing. For (3), please refer to https://www.tensorflow.org/guide/function#controlling_retracing and https://www.tensorflow.org/api_docs/python/tf/function for  more details.\n"
          ]
        },
        {
          "output_type": "stream",
          "name": "stdout",
          "text": [
            "Hagamos una predicción\n",
            "1/1 [==============================] - 0s 79ms/step\n",
            "el resultado es[[211.74315]]fahrenheit\n"
          ]
        }
      ]
    },
    {
      "cell_type": "code",
      "source": [
        "print(\"Variables internas del modelo\")\n",
        "print(capa.get_weights())"
      ],
      "metadata": {
        "colab": {
          "base_uri": "https://localhost:8080/"
        },
        "id": "VV4EpgYFaGVI",
        "outputId": "ad1c9760-87d0-487d-a605-95d83e4ab2c7"
      },
      "execution_count": 60,
      "outputs": [
        {
          "output_type": "stream",
          "name": "stdout",
          "text": [
            "Variables internas del modelo\n",
            "[array([[1.7981988]], dtype=float32), array([31.92327], dtype=float32)]\n"
          ]
        }
      ]
    },
    {
      "cell_type": "markdown",
      "source": [
        "Se observa que primeramente multiplica el valor original por 1.798 y luego le suma 31.927. Muy similar a la fórmula de conversión de celsius a fahrenheit (celsius * 1.8 + 32)"
      ],
      "metadata": {
        "id": "Y8_b7Bk5aw3f"
      }
    },
    {
      "cell_type": "markdown",
      "source": [
        "## ¿Qué ocurre si trato de resolver este mismo problema pero agregando más capas y neuronas a la red?"
      ],
      "metadata": {
        "id": "HXo8_8GFbRWQ"
      }
    },
    {
      "cell_type": "code",
      "source": [
        "#En este caso agregaremos 2 capas intermedias con 3 neuronas y repetiremos el proceso\n",
        "oculta1 = tf.keras.layers.Dense(units = 3, input_shape=[1])\n",
        "oculta2 = tf.keras.layers.Dense(units = 3)\n",
        "salida = tf.keras.layers.Dense(units = 1)\n",
        "modelo = tf.keras.Sequential([oculta1, oculta2, salida])"
      ],
      "metadata": {
        "id": "1e_T58VJbYTB"
      },
      "execution_count": 61,
      "outputs": []
    },
    {
      "cell_type": "code",
      "source": [
        "modelo.compile(\n",
        "    optimizer=tf.keras.optimizers.Adam(0.1),\n",
        "    loss=\"mean_squared_error\"\n",
        ")"
      ],
      "metadata": {
        "id": "mMqKjRpCczSm"
      },
      "execution_count": 62,
      "outputs": []
    },
    {
      "cell_type": "code",
      "source": [
        "print(\"Comenzando entrenamiento\")\n",
        "historial=modelo.fit(celsius, fahrenheit, epochs=1000, verbose=False)\n",
        "print(\"modelo entrenado\")"
      ],
      "metadata": {
        "colab": {
          "base_uri": "https://localhost:8080/"
        },
        "id": "qQ4EhBJfc3wR",
        "outputId": "92d535c0-30a1-4a6e-e9b3-bdcfd0b347f2"
      },
      "execution_count": 63,
      "outputs": [
        {
          "output_type": "stream",
          "name": "stdout",
          "text": [
            "Comenzando entrenamiento\n",
            "modelo entrenado\n"
          ]
        }
      ]
    },
    {
      "cell_type": "code",
      "source": [
        "#Plotear el resultado de la función de pérdida (que tan mal están los resultados de la red en cada vuelta que dio)\n",
        "\n",
        "import matplotlib.pyplot as plt\n",
        "plt.xlabel(\"# Epoca\")\n",
        "plt.ylabel(\"Magnitud de pérdida\")\n",
        "plt.plot(historial.history[\"loss\"])"
      ],
      "metadata": {
        "colab": {
          "base_uri": "https://localhost:8080/",
          "height": 471
        },
        "id": "kI-gAvrtc6rn",
        "outputId": "08d3a8d9-7cb4-42ed-9bb2-ffa1238a1354"
      },
      "execution_count": 64,
      "outputs": [
        {
          "output_type": "execute_result",
          "data": {
            "text/plain": [
              "[<matplotlib.lines.Line2D at 0x7fac45a731f0>]"
            ]
          },
          "metadata": {},
          "execution_count": 64
        },
        {
          "output_type": "display_data",
          "data": {
            "text/plain": [
              "<Figure size 640x480 with 1 Axes>"
            ],
            "image/png": "[encoded data removed]"
          },
          "metadata": {}
        }
      ]
    },
    {
      "cell_type": "code",
      "source": [
        "print(\"Hagamos una predicción\")\n",
        "resultado = modelo.predict([100.0])\n",
        "print(\"el resultado es\" + str(resultado) + \"fahrenheit\")"
      ],
      "metadata": {
        "colab": {
          "base_uri": "https://localhost:8080/"
        },
        "id": "KjEbUFkYdAsr",
        "outputId": "98bdfa5e-04e6-495d-8981-6052a74b8103"
      },
      "execution_count": 65,
      "outputs": [
        {
          "output_type": "stream",
          "name": "stdout",
          "text": [
            "Hagamos una predicción\n",
            "1/1 [==============================] - 0s 106ms/step\n",
            "el resultado es[[211.7475]]fahrenheit\n"
          ]
        }
      ]
    },
    {
      "cell_type": "code",
      "source": [
        "print(\"Variables internas del modelo\")\n",
        "print(oculta1.get_weights())\n",
        "print(oculta2.get_weights())\n",
        "print(salida.get_weights())"
      ],
      "metadata": {
        "colab": {
          "base_uri": "https://localhost:8080/"
        },
        "id": "TzGfSBV-dA8y",
        "outputId": "280f1420-241e-4c27-caea-78e96f7aceb2"
      },
      "execution_count": 66,
      "outputs": [
        {
          "output_type": "stream",
          "name": "stdout",
          "text": [
            "Variables internas del modelo\n",
            "[array([[ 0.47993994, -0.98401695, -0.44309688]], dtype=float32), array([-1.758067 , -4.3827267,  1.654397 ], dtype=float32)]\n",
            "[array([[ 0.02416543, -0.8466742 , -0.17400096],\n",
            "       [ 0.2624906 , -1.8424659 , -0.65477973],\n",
            "       [-0.27699003,  0.6534947 ,  0.47710103]], dtype=float32), array([3.500252, 4.633038, 2.845239], dtype=float32)]\n",
            "[array([[0.6306409],\n",
            "       [1.5145389],\n",
            "       [0.5272698]], dtype=float32), array([4.0569234], dtype=float32)]\n"
          ]
        }
      ]
    }
  ]
}
